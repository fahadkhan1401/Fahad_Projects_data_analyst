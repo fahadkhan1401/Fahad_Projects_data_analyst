{
 "cells": [
  {
   "cell_type": "code",
   "execution_count": 1,
   "id": "dbad83dc",
   "metadata": {},
   "outputs": [
    {
     "name": "stdout",
     "output_type": "stream",
     "text": [
      "Requirement already satisfied: bs4 in e:\\files\\anaconda\\lib\\site-packages (0.0.1)\n",
      "Requirement already satisfied: beautifulsoup4 in e:\\files\\anaconda\\lib\\site-packages (from bs4) (4.10.0)\n",
      "Requirement already satisfied: soupsieve>1.2 in e:\\files\\anaconda\\lib\\site-packages (from beautifulsoup4->bs4) (2.2.1)\n"
     ]
    }
   ],
   "source": [
    "! pip install bs4"
   ]
  },
  {
   "cell_type": "code",
   "execution_count": 2,
   "id": "4394a088",
   "metadata": {},
   "outputs": [],
   "source": [
    "import requests"
   ]
  },
  {
   "cell_type": "code",
   "execution_count": 3,
   "id": "9a959495",
   "metadata": {},
   "outputs": [],
   "source": [
    "url=\"https://www.imdb.com/chart/top/\""
   ]
  },
  {
   "cell_type": "code",
   "execution_count": 4,
   "id": "2f6b9bc8",
   "metadata": {},
   "outputs": [],
   "source": [
    "response=requests.get(url)\n"
   ]
  },
  {
   "cell_type": "code",
   "execution_count": 5,
   "id": "32db85cc",
   "metadata": {},
   "outputs": [
    {
     "data": {
      "text/plain": [
       "<Response [200]>"
      ]
     },
     "execution_count": 5,
     "metadata": {},
     "output_type": "execute_result"
    }
   ],
   "source": [
    "response"
   ]
  },
  {
   "cell_type": "code",
   "execution_count": 6,
   "id": "7f9c8d27",
   "metadata": {},
   "outputs": [
    {
     "data": {
      "text/plain": [
       "<bound method Response.raise_for_status of <Response [200]>>"
      ]
     },
     "execution_count": 6,
     "metadata": {},
     "output_type": "execute_result"
    }
   ],
   "source": [
    "# To check that your url is valid.\n",
    "response.raise_for_status # url is valid"
   ]
  },
  {
   "cell_type": "code",
   "execution_count": 7,
   "id": "c07051ef",
   "metadata": {},
   "outputs": [],
   "source": [
    "from bs4 import BeautifulSoup\n"
   ]
  },
  {
   "cell_type": "code",
   "execution_count": 8,
   "id": "ffdb4455",
   "metadata": {},
   "outputs": [],
   "source": [
    "soup=BeautifulSoup(response.text,\"html.parser\") #  Default Parser"
   ]
  },
  {
   "cell_type": "code",
   "execution_count": 9,
   "id": "4782b4b3",
   "metadata": {},
   "outputs": [],
   "source": [
    "#soup"
   ]
  },
  {
   "cell_type": "code",
   "execution_count": 10,
   "id": "10bbc4cf",
   "metadata": {},
   "outputs": [],
   "source": [
    "movies=soup.find(\"tbody\",class_=\"lister-list\") # We only have the one tbody tag that's why we use find method\n",
    "#print(movies)"
   ]
  },
  {
   "cell_type": "code",
   "execution_count": 11,
   "id": "69b222be",
   "metadata": {},
   "outputs": [
    {
     "name": "stdout",
     "output_type": "stream",
     "text": [
      "250\n"
     ]
    }
   ],
   "source": [
    "movies=soup.find(\"tbody\",class_=\"lister-list\").find_all(\"tr\")\n",
    "print(len(movies)) # Awesome!"
   ]
  },
  {
   "cell_type": "code",
   "execution_count": 12,
   "id": "de6b27a3",
   "metadata": {},
   "outputs": [],
   "source": [
    "for movie in movies:\n",
    "    name=movie.find(\"td\",class_=\"titleColumn\").find(\"a\").text\n",
    "    #print(name) # We extract the name of the movies"
   ]
  },
  {
   "cell_type": "code",
   "execution_count": 13,
   "id": "8ff9b63a",
   "metadata": {},
   "outputs": [],
   "source": [
    "# Now extract the rank of the movies\n",
    "\n",
    "for movie in movies:\n",
    "    rank=movie.find(\"td\",class_=\"titleColumn\").get_text(strip=True)\n",
    "    #print(rank) "
   ]
  },
  {
   "cell_type": "code",
   "execution_count": 14,
   "id": "3d810f8b",
   "metadata": {},
   "outputs": [],
   "source": [
    " # Now extract the rank of the movies\n",
    "\n",
    "for movie in movies:\n",
    "    rank=movie.find(\"td\",class_=\"titleColumn\").get_text(strip=True).split(\".\")[0]\n",
    "    #print(rank) "
   ]
  },
  {
   "cell_type": "code",
   "execution_count": 15,
   "id": "343f0e21",
   "metadata": {},
   "outputs": [],
   "source": [
    "# Now extract the year of the movie\n",
    "for movie in movies:\n",
    "    year=movie.find(\"td\",class_=\"titleColumn\").find(\"span\").text.strip(\" ( ) \")\n",
    "   # print(year)"
   ]
  },
  {
   "cell_type": "code",
   "execution_count": 16,
   "id": "fb24dde8",
   "metadata": {},
   "outputs": [],
   "source": [
    "# Now to extarct the rating of the movies.\n",
    "\n",
    "for movie in movies:\n",
    "    rating=movie.find(\"td\",class_=\"ratingColumn imdbRating\").find(\"strong\").get_text()\n",
    "   # print(rating)"
   ]
  },
  {
   "cell_type": "code",
   "execution_count": 43,
   "id": "9e8b182e",
   "metadata": {},
   "outputs": [],
   "source": [
    "# I do each step individually, Let do it in a one single loop.\n",
    "rank1=[]\n",
    "name1=[]\n",
    "year1=[]\n",
    "rating1=[]\n",
    "\n",
    "for movie in movies:\n",
    "    name=movie.find(\"td\",class_=\"titleColumn\").find(\"a\").text\n",
    "    #print(name) # We extract the name of the movies\n",
    "    rank=movie.find(\"td\",class_=\"titleColumn\").get_text(strip=True).split(\".\")[0]\n",
    "    year=movie.find(\"td\",class_=\"titleColumn\").find(\"span\").text.strip(\" ( ) \")\n",
    "    rating=movie.find(\"td\",class_=\"ratingColumn imdbRating\").find(\"strong\").get_text()\n",
    "    rank1.append(rank)\n",
    "    name1.append(name)\n",
    "    year1.append(year)\n",
    "    rating1.append(rating)\n",
    "    \n",
    "    \n",
    "\n",
    "\n",
    "\n",
    "    "
   ]
  },
  {
   "cell_type": "code",
   "execution_count": 49,
   "id": "9955de2f",
   "metadata": {},
   "outputs": [
    {
     "data": {
      "text/html": [
       "<div>\n",
       "<style scoped>\n",
       "    .dataframe tbody tr th:only-of-type {\n",
       "        vertical-align: middle;\n",
       "    }\n",
       "\n",
       "    .dataframe tbody tr th {\n",
       "        vertical-align: top;\n",
       "    }\n",
       "\n",
       "    .dataframe thead th {\n",
       "        text-align: right;\n",
       "    }\n",
       "</style>\n",
       "<table border=\"1\" class=\"dataframe\">\n",
       "  <thead>\n",
       "    <tr style=\"text-align: right;\">\n",
       "      <th></th>\n",
       "      <th>Rank</th>\n",
       "      <th>Name</th>\n",
       "      <th>Year</th>\n",
       "      <th>Rating</th>\n",
       "    </tr>\n",
       "  </thead>\n",
       "  <tbody>\n",
       "    <tr>\n",
       "      <th>0</th>\n",
       "      <td>1</td>\n",
       "      <td>The Shawshank Redemption</td>\n",
       "      <td>1994</td>\n",
       "      <td>9.2</td>\n",
       "    </tr>\n",
       "    <tr>\n",
       "      <th>1</th>\n",
       "      <td>2</td>\n",
       "      <td>The Godfather</td>\n",
       "      <td>1972</td>\n",
       "      <td>9.1</td>\n",
       "    </tr>\n",
       "    <tr>\n",
       "      <th>2</th>\n",
       "      <td>3</td>\n",
       "      <td>The Godfather: Part II</td>\n",
       "      <td>1974</td>\n",
       "      <td>9.0</td>\n",
       "    </tr>\n",
       "    <tr>\n",
       "      <th>3</th>\n",
       "      <td>4</td>\n",
       "      <td>The Dark Knight</td>\n",
       "      <td>2008</td>\n",
       "      <td>9.0</td>\n",
       "    </tr>\n",
       "    <tr>\n",
       "      <th>4</th>\n",
       "      <td>5</td>\n",
       "      <td>12 Angry Men</td>\n",
       "      <td>1957</td>\n",
       "      <td>8.9</td>\n",
       "    </tr>\n",
       "  </tbody>\n",
       "</table>\n",
       "</div>"
      ],
      "text/plain": [
       "  Rank                      Name  Year Rating\n",
       "0    1  The Shawshank Redemption  1994    9.2\n",
       "1    2             The Godfather  1972    9.1\n",
       "2    3    The Godfather: Part II  1974    9.0\n",
       "3    4           The Dark Knight  2008    9.0\n",
       "4    5              12 Angry Men  1957    8.9"
      ]
     },
     "execution_count": 49,
     "metadata": {},
     "output_type": "execute_result"
    }
   ],
   "source": [
    "# Creating DataFrame from list\n",
    "\n",
    "import pandas as pd\n",
    "\n",
    "df=pd.DataFrame(list(zip(rank1,name1,year1,rating1)),columns=[\"Rank\",\"Name\",\"Year\",\"Rating\"])\n",
    "df.head()"
   ]
  },
  {
   "cell_type": "code",
   "execution_count": 50,
   "id": "37a8d926",
   "metadata": {},
   "outputs": [],
   "source": [
    "# Now let save this dataframe into csv\n",
    "\n",
    "df.to_csv(\"movie_data.csv\")"
   ]
  },
  {
   "cell_type": "code",
   "execution_count": 31,
   "id": "ad9f0218",
   "metadata": {},
   "outputs": [],
   "source": []
  },
  {
   "cell_type": "code",
   "execution_count": 27,
   "id": "e914423b",
   "metadata": {},
   "outputs": [],
   "source": []
  },
  {
   "cell_type": "code",
   "execution_count": 38,
   "id": "31b90416",
   "metadata": {},
   "outputs": [],
   "source": []
  },
  {
   "cell_type": "code",
   "execution_count": null,
   "id": "b60ba8e8",
   "metadata": {},
   "outputs": [],
   "source": []
  },
  {
   "cell_type": "code",
   "execution_count": null,
   "id": "269b0f5a",
   "metadata": {},
   "outputs": [],
   "source": []
  },
  {
   "cell_type": "code",
   "execution_count": null,
   "id": "725f15db",
   "metadata": {},
   "outputs": [],
   "source": []
  },
  {
   "cell_type": "code",
   "execution_count": null,
   "id": "adfcca7e",
   "metadata": {},
   "outputs": [],
   "source": []
  },
  {
   "cell_type": "code",
   "execution_count": null,
   "id": "68311c60",
   "metadata": {},
   "outputs": [],
   "source": []
  }
 ],
 "metadata": {
  "kernelspec": {
   "display_name": "Python 3 (ipykernel)",
   "language": "python",
   "name": "python3"
  },
  "language_info": {
   "codemirror_mode": {
    "name": "ipython",
    "version": 3
   },
   "file_extension": ".py",
   "mimetype": "text/x-python",
   "name": "python",
   "nbconvert_exporter": "python",
   "pygments_lexer": "ipython3",
   "version": "3.9.7"
  }
 },
 "nbformat": 4,
 "nbformat_minor": 5
}
